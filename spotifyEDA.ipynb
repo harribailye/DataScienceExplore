{
 "cells": [
  {
   "cell_type": "markdown",
   "metadata": {},
   "source": [
    "## Data Science Exploration"
   ]
  },
  {
   "cell_type": "markdown",
   "metadata": {},
   "source": [
    "This script will do an EDA of the Top Hits on Spotify from 2000-2019 \n",
    "- https://www.kaggle.com/datasets/paradisejoy/top-hits-spotify-from-20002019/data \n",
    "- This dataset contains audio statistics of the top 2000 tracks on Spotify from 2000-2019. The data contains about 18 columns each describing the track and it's qualities."
   ]
  },
  {
   "cell_type": "code",
   "execution_count": 92,
   "metadata": {},
   "outputs": [],
   "source": [
    "# Import required libaries \n",
    "import pandas as pd \n",
    "import matplotlib.pyplot as plt\n",
    "from sklearn.model_selection import train_test_split\n",
    "from sklearn.linear_model import LinearRegression\n",
    "from sklearn.metrics import mean_squared_error, r2_score, accuracy_score, precision_score, recall_score\n",
    "from sklearn.ensemble import RandomForestClassifier\n",
    "from sklearn.preprocessing import LabelEncoder"
   ]
  },
  {
   "cell_type": "code",
   "execution_count": 85,
   "metadata": {},
   "outputs": [
    {
     "name": "stdout",
     "output_type": "stream",
     "text": [
      "(2000, 18)\n",
      "       artist                song  duration_ms  explicit  year  popularity  \\\n",
      "691  The Fray  How to Save a Life       262533     False  2005          79   \n",
      "\n",
      "     danceability  energy  key  loudness  mode  speechiness  acousticness  \\\n",
      "691          0.64   0.743   10     -4.08     1       0.0379         0.269   \n",
      "\n",
      "     instrumentalness  liveness  valence    tempo genre  \n",
      "691               0.0     0.101    0.361  122.035   pop  \n"
     ]
    }
   ],
   "source": [
    "# Read in the data \n",
    "spotifyData = pd.read_csv('spotify.csv')\n",
    "print(spotifyData.shape) # Size of the data set \n",
    "print(spotifyData.sample()) # Print a sample of the data "
   ]
  },
  {
   "cell_type": "code",
   "execution_count": 86,
   "metadata": {},
   "outputs": [
    {
     "name": "stdout",
     "output_type": "stream",
     "text": [
      "         duration_ms        year   popularity  danceability       energy  \\\n",
      "count    2000.000000  2000.00000  2000.000000   2000.000000  2000.000000   \n",
      "mean   228748.124500  2009.49400    59.872500      0.667438     0.720366   \n",
      "std     39136.569008     5.85996    21.335577      0.140416     0.152745   \n",
      "min    113000.000000  1998.00000     0.000000      0.129000     0.054900   \n",
      "25%    203580.000000  2004.00000    56.000000      0.581000     0.622000   \n",
      "50%    223279.500000  2010.00000    65.500000      0.676000     0.736000   \n",
      "75%    248133.000000  2015.00000    73.000000      0.764000     0.839000   \n",
      "max    484146.000000  2020.00000    89.000000      0.975000     0.999000   \n",
      "\n",
      "               key     loudness         mode  speechiness  acousticness  \\\n",
      "count  2000.000000  2000.000000  2000.000000  2000.000000   2000.000000   \n",
      "mean      5.378000    -5.512434     0.553500     0.103568      0.128955   \n",
      "std       3.615059     1.933482     0.497254     0.096159      0.173346   \n",
      "min       0.000000   -20.514000     0.000000     0.023200      0.000019   \n",
      "25%       2.000000    -6.490250     0.000000     0.039600      0.014000   \n",
      "50%       6.000000    -5.285000     1.000000     0.059850      0.055700   \n",
      "75%       8.000000    -4.167750     1.000000     0.129000      0.176250   \n",
      "max      11.000000    -0.276000     1.000000     0.576000      0.976000   \n",
      "\n",
      "       instrumentalness     liveness      valence        tempo  \n",
      "count       2000.000000  2000.000000  2000.000000  2000.000000  \n",
      "mean           0.015226     0.181216     0.551690   120.122558  \n",
      "std            0.087771     0.140669     0.220864    26.967112  \n",
      "min            0.000000     0.021500     0.038100    60.019000  \n",
      "25%            0.000000     0.088100     0.386750    98.985750  \n",
      "50%            0.000000     0.124000     0.557500   120.021500  \n",
      "75%            0.000068     0.241000     0.730000   134.265500  \n",
      "max            0.985000     0.853000     0.973000   210.851000  \n"
     ]
    }
   ],
   "source": [
    "print(spotifyData.describe())"
   ]
  },
  {
   "cell_type": "markdown",
   "metadata": {},
   "source": [
    "# Fit A GLM Model\n",
    "#### Will fit a GLM to the data to predict the year of the song"
   ]
  },
  {
   "cell_type": "code",
   "execution_count": 87,
   "metadata": {},
   "outputs": [],
   "source": [
    "# Define variables, dropping all categorical features \n",
    "X = spotifyData.drop(columns=['year', 'artist', 'song', 'genre'])\n",
    "y = spotifyData['year']\n",
    "\n",
    "# Split data into training and testing sets with an 80-20 split \n",
    "X_train, X_test, y_train, y_test = train_test_split(X, y, test_size=0.2, random_state=42)\n"
   ]
  },
  {
   "cell_type": "code",
   "execution_count": 88,
   "metadata": {},
   "outputs": [],
   "source": [
    "# Fit the GLM\n",
    "model = LinearRegression()\n",
    "model.fit(X_train, y_train)\n",
    "\n",
    "# Make predictions on the test set\n",
    "y_pred = model.predict(X_test)"
   ]
  },
  {
   "cell_type": "code",
   "execution_count": 89,
   "metadata": {},
   "outputs": [
    {
     "name": "stdout",
     "output_type": "stream",
     "text": [
      "Mean Squared Error: 30.849836548281324\n",
      "R-squared: 0.14436197290701924\n"
     ]
    }
   ],
   "source": [
    "# Evaluate the model performance \n",
    "mse = mean_squared_error(y_test, y_pred)\n",
    "r2 = r2_score(y_test, y_pred)\n",
    "\n",
    "print(\"Mean Squared Error:\", mse)\n",
    "print(\"R-squared:\", r2)"
   ]
  },
  {
   "cell_type": "markdown",
   "metadata": {},
   "source": [
    "Results:\n",
    "Mean Squared Error: 30.849836548281324\n",
    "R-squared: 0.14436197290701924\n",
    "\n",
    "These results show that the model is not very useful at predicting the year of the song "
   ]
  },
  {
   "cell_type": "markdown",
   "metadata": {},
   "source": [
    "# Fit A Random Forest Classifier \n",
    "#### Will fit a Random Forest model to the data to predict the genre of the song "
   ]
  },
  {
   "cell_type": "code",
   "execution_count": 136,
   "metadata": {},
   "outputs": [],
   "source": [
    "# Select relevant features and target variable\n",
    "X2 = spotifyData.drop(columns=['artist', 'song', 'genre'])\n",
    "y2 = spotifyData['genre']\n",
    "\n",
    "# Encode categorical target variable (artist)\n",
    "label_encoder = LabelEncoder()\n",
    "y2 = label_encoder.fit_transform(y2)\n",
    "\n",
    "# Split the data into training and testing sets\n",
    "X2_train, X2_test, y2_train, y2_test = train_test_split(X2, y2, test_size=0.2, random_state=41)\n",
    "\n",
    "# Initialize and train the model (e.g., Random Forest Classifier)\n",
    "model = RandomForestClassifier()\n",
    "model.fit(X2_train, y2_train)\n",
    "\n",
    "# Make predictions on the testing set\n",
    "y2_pred = model.predict(X2_test)\n"
   ]
  },
  {
   "cell_type": "code",
   "execution_count": 137,
   "metadata": {},
   "outputs": [
    {
     "name": "stdout",
     "output_type": "stream",
     "text": [
      "Accuracy:  0.36\n",
      "Precision: 0.3249078025778987\n",
      "Recall: 0.36\n"
     ]
    },
    {
     "name": "stderr",
     "output_type": "stream",
     "text": [
      "c:\\Users\\harrison.bailye\\Downloads\\DataScienceExplore\\.venv\\Lib\\site-packages\\sklearn\\metrics\\_classification.py:1509: UndefinedMetricWarning: Recall is ill-defined and being set to 0.0 in labels with no true samples. Use `zero_division` parameter to control this behavior.\n",
      "  _warn_prf(average, modifier, f\"{metric.capitalize()} is\", len(result))\n"
     ]
    }
   ],
   "source": [
    "# Evaluate the model using accuracy, precision and recall \n",
    "accuracy = accuracy_score(y2_test, y2_pred)\n",
    "precision = precision_score(y2_test, y2_pred, average='weighted', zero_division=0)  # Weighted average precision\n",
    "recall = recall_score(y2_test, y2_pred, average='weighted', zero_division=0)  # Weighted average recall\n",
    "\n",
    "# Print the metrics \n",
    "print(\"Accuracy: \", accuracy)\n",
    "print(\"Precision:\", precision)\n",
    "print(\"Recall:\", recall)"
   ]
  },
  {
   "cell_type": "code",
   "execution_count": 135,
   "metadata": {},
   "outputs": [
    {
     "name": "stdout",
     "output_type": "stream",
     "text": [
      "Predicted Genre: ['hip hop, pop']\n"
     ]
    }
   ],
   "source": [
    "example_input = {\n",
    "    'duration_ms': 228700,\n",
    "    'explicit': 1,  \n",
    "    'year': 2003, \n",
    "    'popularity': 66,\n",
    "    'danceability': 0.3,\n",
    "    'energy': 0.6,\n",
    "    'key': 3,\n",
    "    'loudness': 3,\n",
    "    'mode': 3.5,\n",
    "    'speechiness': 0.9,\n",
    "    'acousticness': 0.3, \n",
    "    'instrumentalness': 0.3, \n",
    "    'liveness': 0.2,\n",
    "    'valence': 0.3,\n",
    "    'tempo': 35\n",
    "}\n",
    "\n",
    "example_df = pd.DataFrame([example_input])\n",
    "\n",
    "predicted_genre = model.predict(example_df)\n",
    "\n",
    "# Decode the predicted genre labels back to their original names\n",
    "predicted_genre_names = label_encoder.inverse_transform(predicted_genre)\n",
    "\n",
    "# Print the predicted genre\n",
    "print(\"Predicted Genre:\", predicted_genre_names)"
   ]
  }
 ],
 "metadata": {
  "kernelspec": {
   "display_name": ".venv",
   "language": "python",
   "name": "python3"
  },
  "language_info": {
   "codemirror_mode": {
    "name": "ipython",
    "version": 3
   },
   "file_extension": ".py",
   "mimetype": "text/x-python",
   "name": "python",
   "nbconvert_exporter": "python",
   "pygments_lexer": "ipython3",
   "version": "3.12.2"
  }
 },
 "nbformat": 4,
 "nbformat_minor": 2
}
