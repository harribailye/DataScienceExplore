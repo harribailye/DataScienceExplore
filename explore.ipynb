{
 "cells": [
  {
   "cell_type": "markdown",
   "metadata": {},
   "source": [
    "## Data Science Exploration"
   ]
  },
  {
   "cell_type": "markdown",
   "metadata": {},
   "source": [
    "This script will do an EDA of the Top Hits on Spotify from 2000-2019 \n",
    "- https://www.kaggle.com/datasets/paradisejoy/top-hits-spotify-from-20002019/data \n",
    "- This dataset contains audio statistics of the top 2000 tracks on Spotify from 2000-2019. The data contains about 18 columns each describing the track and it's qualities."
   ]
  },
  {
   "cell_type": "code",
   "execution_count": 19,
   "metadata": {},
   "outputs": [],
   "source": [
    "# Import required libaries \n",
    "import pandas as pd \n",
    "import matplotlib.pyplot as plt"
   ]
  },
  {
   "cell_type": "code",
   "execution_count": 20,
   "metadata": {},
   "outputs": [
    {
     "name": "stdout",
     "output_type": "stream",
     "text": [
      "(2000, 18)\n",
      "       artist         song  duration_ms  explicit  year  popularity  \\\n",
      "297  Coldplay  In My Place       226680     False  2002          72   \n",
      "\n",
      "     danceability  energy  key  loudness  mode  speechiness  acousticness  \\\n",
      "297         0.424   0.588    9    -5.455     1       0.0278        0.0553   \n",
      "\n",
      "     instrumentalness  liveness  valence    tempo      genre  \n",
      "297          0.000005     0.298    0.193  144.636  rock, pop  \n"
     ]
    }
   ],
   "source": [
    "# Read in the data \n",
    "spotifyData = pd.read_csv('spotify.csv')\n",
    "print(spotifyData.shape) # Size of the data set \n",
    "print(spotifyData.sample()) # Print a sample of the data "
   ]
  },
  {
   "cell_type": "code",
   "execution_count": 21,
   "metadata": {},
   "outputs": [
    {
     "name": "stdout",
     "output_type": "stream",
     "text": [
      "         duration_ms        year   popularity  danceability       energy  \\\n",
      "count    2000.000000  2000.00000  2000.000000   2000.000000  2000.000000   \n",
      "mean   228748.124500  2009.49400    59.872500      0.667438     0.720366   \n",
      "std     39136.569008     5.85996    21.335577      0.140416     0.152745   \n",
      "min    113000.000000  1998.00000     0.000000      0.129000     0.054900   \n",
      "25%    203580.000000  2004.00000    56.000000      0.581000     0.622000   \n",
      "50%    223279.500000  2010.00000    65.500000      0.676000     0.736000   \n",
      "75%    248133.000000  2015.00000    73.000000      0.764000     0.839000   \n",
      "max    484146.000000  2020.00000    89.000000      0.975000     0.999000   \n",
      "\n",
      "               key     loudness         mode  speechiness  acousticness  \\\n",
      "count  2000.000000  2000.000000  2000.000000  2000.000000   2000.000000   \n",
      "mean      5.378000    -5.512434     0.553500     0.103568      0.128955   \n",
      "std       3.615059     1.933482     0.497254     0.096159      0.173346   \n",
      "min       0.000000   -20.514000     0.000000     0.023200      0.000019   \n",
      "25%       2.000000    -6.490250     0.000000     0.039600      0.014000   \n",
      "50%       6.000000    -5.285000     1.000000     0.059850      0.055700   \n",
      "75%       8.000000    -4.167750     1.000000     0.129000      0.176250   \n",
      "max      11.000000    -0.276000     1.000000     0.576000      0.976000   \n",
      "\n",
      "       instrumentalness     liveness      valence        tempo  \n",
      "count       2000.000000  2000.000000  2000.000000  2000.000000  \n",
      "mean           0.015226     0.181216     0.551690   120.122558  \n",
      "std            0.087771     0.140669     0.220864    26.967112  \n",
      "min            0.000000     0.021500     0.038100    60.019000  \n",
      "25%            0.000000     0.088100     0.386750    98.985750  \n",
      "50%            0.000000     0.124000     0.557500   120.021500  \n",
      "75%            0.000068     0.241000     0.730000   134.265500  \n",
      "max            0.985000     0.853000     0.973000   210.851000  \n"
     ]
    }
   ],
   "source": [
    "print(spotifyData.describe())"
   ]
  },
  {
   "cell_type": "code",
   "execution_count": null,
   "metadata": {},
   "outputs": [],
   "source": []
  }
 ],
 "metadata": {
  "kernelspec": {
   "display_name": ".venv",
   "language": "python",
   "name": "python3"
  },
  "language_info": {
   "codemirror_mode": {
    "name": "ipython",
    "version": 3
   },
   "file_extension": ".py",
   "mimetype": "text/x-python",
   "name": "python",
   "nbconvert_exporter": "python",
   "pygments_lexer": "ipython3",
   "version": "3.12.2"
  }
 },
 "nbformat": 4,
 "nbformat_minor": 2
}
