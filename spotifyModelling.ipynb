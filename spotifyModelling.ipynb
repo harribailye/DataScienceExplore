{
 "cells": [
  {
   "cell_type": "markdown",
   "metadata": {},
   "source": [
    "# Data Science Exploration\n",
    "\n",
    "This script will fit models on the Top Hits on Spotify from 2000-2019 \n",
    "- https://www.kaggle.com/datasets/paradisejoy/top-hits-spotify-from-20002019/data \n",
    "- This dataset contains audio statistics of the top 2000 tracks on Spotify from 2000-2019. The data contains about 18 columns each describing the track and it's qualities.\n"
   ]
  },
  {
   "cell_type": "code",
   "execution_count": null,
   "metadata": {},
   "outputs": [],
   "source": [
    "# Import required libaries \n",
    "import pandas as pd \n",
    "import matplotlib.pyplot as plt\n",
    "from sklearn.model_selection import train_test_split\n",
    "from sklearn.linear_model import LinearRegression\n",
    "from sklearn.metrics import mean_squared_error, r2_score, accuracy_score, precision_score, recall_score\n",
    "from sklearn.ensemble import RandomForestClassifier\n",
    "from sklearn.preprocessing import LabelEncoder\n"
   ]
  },
  {
   "cell_type": "code",
   "execution_count": null,
   "metadata": {},
   "outputs": [],
   "source": [
    "# Read in the data \n",
    "spotifyData = pd.read_csv('spotify.csv')"
   ]
  },
  {
   "cell_type": "markdown",
   "metadata": {},
   "source": [
    "# GENERAL LINEAR MODEL\n",
    "Will fit a GLM to the data to predict the year of the song"
   ]
  },
  {
   "cell_type": "code",
   "execution_count": null,
   "metadata": {},
   "outputs": [],
   "source": [
    "# Define variables, dropping all categorical features, 80-20 train/test split \n",
    "X = spotifyData.drop(columns=['year', 'artist', 'song', 'genre'])\n",
    "y = spotifyData['year']\n",
    "X_train, X_test, y_train, y_test = train_test_split(X, y, test_size=0.2, random_state=42)"
   ]
  },
  {
   "cell_type": "code",
   "execution_count": null,
   "metadata": {},
   "outputs": [],
   "source": [
    "# Fit the GLM\n",
    "model = LinearRegression()\n",
    "model.fit(X_train, y_train)"
   ]
  },
  {
   "cell_type": "code",
   "execution_count": null,
   "metadata": {},
   "outputs": [],
   "source": [
    "# Make predictions on the test set\n",
    "y_pred = model.predict(X_test)"
   ]
  },
  {
   "cell_type": "code",
   "execution_count": null,
   "metadata": {},
   "outputs": [],
   "source": [
    "# Evaluate the model performance \n",
    "mse = mean_squared_error(y_test, y_pred)\n",
    "r2 = r2_score(y_test, y_pred)\n",
    "print(\"Mean Squared Error:\", mse)\n",
    "print(\"R-squared:\", r2)"
   ]
  },
  {
   "cell_type": "markdown",
   "metadata": {},
   "source": [
    "# RANDOM FOREST \n",
    "Will fit a Random Forest model to the data to predict the genre of the song "
   ]
  },
  {
   "cell_type": "code",
   "execution_count": null,
   "metadata": {},
   "outputs": [],
   "source": [
    "# Select relevant features and target variable\n",
    "X2 = spotifyData.drop(columns=['artist', 'song', 'genre'])\n",
    "y2 = spotifyData['genre']\n",
    "\n",
    "# Encode categorical target variable (artist)\n",
    "label_encoder = LabelEncoder()\n",
    "y2 = label_encoder.fit_transform(y2)\n",
    "\n",
    "# Split the data into training and testing sets\n",
    "X2_train, X2_test, y2_train, y2_test = train_test_split(X2, y2, test_size=0.2, random_state=41)"
   ]
  },
  {
   "cell_type": "code",
   "execution_count": null,
   "metadata": {},
   "outputs": [],
   "source": [
    "# Initialize and train the model (e.g., Random Forest Classifier)\n",
    "model = RandomForestClassifier()\n",
    "model.fit(X2_train, y2_train)\n",
    "\n",
    "# Make predictions on the testing set\n",
    "y2_pred = model.predict(X2_test)"
   ]
  },
  {
   "cell_type": "code",
   "execution_count": null,
   "metadata": {},
   "outputs": [],
   "source": [
    "# Evaluate the model using accuracy, precision and recall \n",
    "accuracy = accuracy_score(y2_test, y2_pred)\n",
    "precision = precision_score(y2_test, y2_pred, average='weighted', zero_division=0)  # Weighted average precision\n",
    "recall = recall_score(y2_test, y2_pred, average='weighted', zero_division=0)  # Weighted average recall\n",
    "\n",
    "# Print the metrics \n",
    "print(\"Accuracy: \", accuracy)\n",
    "print(\"Precision:\", precision)\n",
    "print(\"Recall:\", recall)"
   ]
  },
  {
   "cell_type": "code",
   "execution_count": null,
   "metadata": {},
   "outputs": [],
   "source": [
    "# Input my own data to test the model \n",
    "example_input = {\n",
    "    'duration_ms': 228700,\n",
    "    'explicit': 1,  \n",
    "    'year': 2003, \n",
    "    'popularity': 66,\n",
    "    'danceability': 0.3,\n",
    "    'energy': 0.6,\n",
    "    'key': 3,\n",
    "    'loudness': 3,\n",
    "    'mode': 3.5,\n",
    "    'speechiness': 0.9,\n",
    "    'acousticness': 0.3, \n",
    "    'instrumentalness': 0.3, \n",
    "    'liveness': 0.2,\n",
    "    'valence': 0.3,\n",
    "    'tempo': 35\n",
    "}\n",
    "\n",
    "example_df = pd.DataFrame([example_input])\n",
    "predicted_genre = model.predict(example_df)\n",
    "predicted_genre_names = label_encoder.inverse_transform(predicted_genre)\n",
    "print(\"Predicted Genre:\", predicted_genre_names)"
   ]
  }
 ],
 "metadata": {
  "language_info": {
   "name": "python"
  }
 },
 "nbformat": 4,
 "nbformat_minor": 2
}
